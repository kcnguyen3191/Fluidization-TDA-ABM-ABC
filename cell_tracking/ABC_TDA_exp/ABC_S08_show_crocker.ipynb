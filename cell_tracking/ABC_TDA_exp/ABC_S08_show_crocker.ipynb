{
 "cells": [
  {
   "cell_type": "code",
   "execution_count": 1,
   "metadata": {},
   "outputs": [],
   "source": [
    "import matplotlib.pyplot as plt\n",
    "import matplotlib as mpl\n",
    "import pandas as pd\n",
    "import numpy as np\n",
    "import os\n",
    "from ripser import ripser\n",
    "import scipy\n",
    "\n",
    "import concurrent.futures\n",
    "from scipy.integrate import ode\n",
    "import glob\n",
    "import imageio as io\n",
    "from itertools import repeat\n",
    "\n",
    "from Scripts.crocker import *"
   ]
  },
  {
   "cell_type": "code",
   "execution_count": 2,
   "metadata": {},
   "outputs": [],
   "source": [
    "stage_idx = 40"
   ]
  },
  {
   "cell_type": "code",
   "execution_count": 3,
   "metadata": {},
   "outputs": [],
   "source": [
    "###ARGS\n",
    "#What time to use as initial\n",
    "T0 = 23\n",
    "#What time to end the simulation\n",
    "TF = 118\n",
    "#How often to make a new frame of data\n",
    "DT = 1\n",
    "#Make time vector\n",
    "time_vec = np.arange(T0,TF+DT,DT)"
   ]
  },
  {
   "cell_type": "code",
   "execution_count": 5,
   "metadata": {},
   "outputs": [
    {
     "name": "stdout",
     "output_type": "stream",
     "text": [
      "300 points in frame 117"
     ]
    }
   ],
   "source": [
    "FRAME_LIST = range(T0,TF,DT) #starts at 10 because of angle computation\n",
    "#VANILLA CROCKER\n",
    "#Which DataFrame columns to use as dimensions\n",
    "DATA_COLS = ('x','y','angle')\n",
    "unscale_num = 25\n",
    "#compute the data for the crocker plot\n",
    "if 'angle' in DATA_COLS:\n",
    "    PROX_VEC = 10**(np.linspace(-2,2,200)) #for position/entire crocker\n",
    "if 'vx' in DATA_COLS:\n",
    "    PROX_VEC = 10**(np.linspace(-2,2,200)) #for position/entire crocker\n",
    "\n",
    "# Get true data frame:\n",
    "# true_PATH = 'scratch_assay_data/subsampled_data/stage_'+str(stage_idx)+'_subsampled.pkl'\n",
    "# filt_df = pd.read_pickle(true_PATH)\n",
    "# filt_df.x = filt_df.x/unscale_num\n",
    "# filt_df.y = filt_df.y/unscale_num\n",
    "# filt_df.vy = filt_df.vx/unscale_num\n",
    "# filt_df.vy = filt_df.vy/unscale_num\n",
    "\n",
    "# true_crocker = compute_crocker_custom(filt_df,FRAME_LIST,PROX_VEC,data_cols=DATA_COLS,betti=[0,1])\n",
    "# if 'angle' in DATA_COLS:\n",
    "#     np.save('Results/stage_'+str(stage_idx)+'/stage_'+str(stage_idx)+'_subsampled_crocker_angles_SD_n2p2.npy',true_crocker)\n",
    "# if 'vx' in DATA_COLS:\n",
    "#     np.save('Results/stage_'+str(stage_idx)+'/stage_'+str(stage_idx)+'_subsampled_crocker_velocities.npy',true_crocker)\n",
    "\n",
    "# plot_crocker_highres_split(true_crocker,\n",
    "#                            PROX_VEC,\n",
    "#                            [50,150,250],\n",
    "#                            true_crocker,\n",
    "#                            PROX_VEC,\n",
    "#                            [50,150,250],\n",
    "#                            save_path='Results/stage_'+str(stage_idx)+'/stage_'+str(stage_idx)+'_true_crocker_SD_n2p2.pdf')\n",
    "\n",
    "# Get true data frame:\n",
    "pred_PATH = 'Results/stage_'+str(stage_idx)+'/ABC_df_angles_p01_angles.pkl'\n",
    "filt_df = pd.read_pickle(pred_PATH)\n",
    "filt_df.x = filt_df.x/unscale_num\n",
    "filt_df.y = filt_df.y/unscale_num\n",
    "filt_df.vy = filt_df.vx/unscale_num\n",
    "filt_df.vy = filt_df.vy/unscale_num\n",
    "pred_crocker = compute_crocker_custom(filt_df,FRAME_LIST,PROX_VEC,data_cols=DATA_COLS,betti=[0,1])\n",
    "np.save('Results/stage_'+str(stage_idx)+'/stage_'+str(stage_idx)+'_medianSSE_crocker.npy',pred_crocker)\n",
    "plot_crocker_highres_split(pred_crocker,\n",
    "                           PROX_VEC,\n",
    "                           [50,150,250],\n",
    "                           pred_crocker,\n",
    "                           PROX_VEC,\n",
    "                           [50,150,250],\n",
    "                           save_path='Results/stage_'+str(stage_idx)+'/stage_'+str(stage_idx)+'_medianSSE_crocker.pdf')"
   ]
  },
  {
   "cell_type": "code",
   "execution_count": 8,
   "metadata": {},
   "outputs": [
    {
     "data": {
      "text/plain": [
       "1.1570842599516378"
      ]
     },
     "execution_count": 8,
     "metadata": {},
     "output_type": "execute_result"
    }
   ],
   "source": [
    "max(filt_df.x)"
   ]
  },
  {
   "cell_type": "code",
   "execution_count": null,
   "metadata": {},
   "outputs": [],
   "source": []
  }
 ],
 "metadata": {
  "kernelspec": {
   "display_name": "Python 3 (ipykernel)",
   "language": "python",
   "name": "python3"
  },
  "language_info": {
   "codemirror_mode": {
    "name": "ipython",
    "version": 3
   },
   "file_extension": ".py",
   "mimetype": "text/x-python",
   "name": "python",
   "nbconvert_exporter": "python",
   "pygments_lexer": "ipython3",
   "version": "3.10.4"
  }
 },
 "nbformat": 4,
 "nbformat_minor": 4
}
