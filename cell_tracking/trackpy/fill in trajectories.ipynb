{
 "cells": [
  {
   "cell_type": "code",
   "execution_count": null,
   "metadata": {},
   "outputs": [],
   "source": [
    "import matplotlib as mpl\n",
    "%matplotlib notebook\n",
    "import matplotlib.pyplot as plt\n",
    "import time\n",
    "import numpy as np\n",
    "import pims,os,imageio,glob\n",
    "import trackpy as tp\n",
    "import matplotlib.cm as cm\n",
    "import matplotlib.colors as colors\n",
    "from matplotlib.colors import Normalize\n",
    "from scipy.interpolate import interp1d\n",
    "import pandas as pd"
   ]
  },
  {
   "cell_type": "code",
   "execution_count": null,
   "metadata": {
    "scrolled": false
   },
   "outputs": [],
   "source": [
    "###INTERPOLATION NOW INCLUDED IN get_trackpy_trajectories.py###\n",
    "#loop through stages\n",
    "for stage_num in [s for s in range(1,43) if s!=25]:\n",
    "    \n",
    "    #load in trajectory\n",
    "    with open(\"trajectories/\"+str(stage_num)+\"_traj_data.p\",\"rb\") as f:\n",
    "        t = pd.read_pickle(f)\n",
    "\n",
    "    #loop through particles\n",
    "    for j in t.particle.unique():\n",
    "\n",
    "        #find particle\n",
    "        particle = t[t['particle']==j]\n",
    "\n",
    "        time = np.array(particle['frame'])\n",
    "        x = np.array(particle['x'])\n",
    "        y = np.array(particle['y'])\n",
    "\n",
    "\n",
    "        if len(time) > 1:\n",
    "            #all the frames between cell's first and last appearance\n",
    "            all_frames = np.arange(particle['frame'].iloc[0],particle['frame'].iloc[-1]+1)\n",
    "\n",
    "            #interpolate x,y\n",
    "            fx = interp1d(time,x)\n",
    "            x_filled = fx(all_frames)\n",
    "            fy = interp1d(time,y)\n",
    "            y_filled = fy(all_frames)\n",
    "\n",
    "            data = {'x':x_filled,'y':y_filled,'particle':j,'frame':all_frames}\n",
    "\n",
    "        else:\n",
    "            #no need to interpolate if only one time frame\n",
    "\n",
    "            data = {'x':x,'y':y,'particle':j,'frame':time}\n",
    "\n",
    "        df_new = pd.DataFrame(data)\n",
    "\n",
    "        if j == 0:\n",
    "            df = df_new\n",
    "        else:\n",
    "            df = pd.concat([df,df_new])\n",
    "   \n",
    "    #save\n",
    "    df.to_pickle(\"trajectories/\"+str(stage_num)+\"_traj_data_filled_in.p\")"
   ]
  }
 ],
 "metadata": {
  "kernelspec": {
   "display_name": "Python 3",
   "language": "python",
   "name": "python3"
  },
  "language_info": {
   "codemirror_mode": {
    "name": "ipython",
    "version": 3
   },
   "file_extension": ".py",
   "mimetype": "text/x-python",
   "name": "python",
   "nbconvert_exporter": "python",
   "pygments_lexer": "ipython3",
   "version": "3.7.7"
  }
 },
 "nbformat": 4,
 "nbformat_minor": 2
}
